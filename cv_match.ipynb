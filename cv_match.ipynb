{
 "cells": [
  {
   "cell_type": "code",
   "execution_count": 1,
   "metadata": {},
   "outputs": [
    {
     "name": "stdout",
     "output_type": "stream",
     "text": [
      "env: OPENAI_API_KEY=sk-proj-uHl9xwQTjtgjyk8xvFxGT3BlbkFJMDmkjidulN00f2O73Lbk\n"
     ]
    }
   ],
   "source": []
  },
  {
   "cell_type": "code",
   "execution_count": 3,
   "metadata": {},
   "outputs": [
    {
     "name": "stdout",
     "output_type": "stream",
     "text": [
      "Collecting pypdf\n",
      "  Downloading pypdf-5.1.0-py3-none-any.whl.metadata (7.2 kB)\n",
      "Downloading pypdf-5.1.0-py3-none-any.whl (297 kB)\n",
      "Installing collected packages: pypdf\n",
      "Successfully installed pypdf-5.1.0\n",
      "Note: you may need to restart the kernel to use updated packages.\n"
     ]
    }
   ],
   "source": [
    "%pip install pypdf"
   ]
  },
  {
   "cell_type": "code",
   "execution_count": 4,
   "metadata": {},
   "outputs": [],
   "source": [
    "from langchain_community.document_loaders import PyPDFLoader\n",
    "\n",
    "loader = PyPDFLoader(\"cv-edu.pdf\")\n",
    "pages = loader.load_and_split()\n",
    "document_pdf = loader.load()"
   ]
  },
  {
   "cell_type": "code",
   "execution_count": 6,
   "metadata": {},
   "outputs": [
    {
     "data": {
      "text/plain": [
       "[Document(metadata={'source': 'cv-edu.pdf', 'page': 0}, page_content='Experiencia Laboral\\n12/2022 – PRESENTE CHILE\\nData Scientist Data FactoryFalabella Financiero\\nImplementación y puesta en producción de \\nmodelos analíticos avanzados para predecir \\ntendencias y comportamientos financieros, \\ncoordinando pruebas exhaustivas para \\ngarantizar la precisión y confiabilidad de los \\nmodelos en diversos casos de uso.\\n05/2021 – 12/2022 CHILE\\nCampaign Analyst Aperturas DigitalesFalabella Financiero\\nEvaluar campañas para medir su efectividad e \\nimpacto, obteniendo insights de negocio que \\npermitan la mejora continua.\\nAnalizar datos disponibles para generar \\ninformación valiosa que permita apalancar \\nacciones comerciales de cara a la cartera.\\nMejorar continuamente los procesos internos \\ndel área, usando las distintas plataformas y \\nherramientas disponibles.\\n07/2019 – 05/2021 SANTIAGO,\\xa0CHILE\\nAnalista de Inteligencia de NegociosBanco Estado Cobranzas\\nGenerar bases de perfilamiento de clientes a \\ntravés de modelos estadísticos y aprendizaje \\nautomático.\\xa0\\nRealizar estudios periódicos que permitan \\ncomprender el comportamiento de los clientes \\nen estado de morosidad.\\nGenerar bases de datos que permita realizar \\nuna asignación inteligente de clientes a los \\ndistintos canales de atención.\\n08/2018 – PRESENTE SANTIAGO,\\xa0CHILE\\nIngeniero BI / Data ScienceMacal Remates\\nExperiencia Laboral\\nGestionar la captura e integración de datos \\nexternos relevantes para el negocio, \\nproporcionando apoyo para la agenda de \\ninteligencia empresarial y control comercial en el \\nárea de Vehículos Livianos, basado en análisis de \\ndatos del mercado y de la empresa.\\n08/2015 – 07/2018 SANTIAGO,\\xa0CHILE\\nIngeniero de Desarrollo y PlataformasBILaboratorios Garden House\\nEncargado de impulsar el desarrollo tecnológico \\ncomercial a través de la implementación de \\nmodelos de visualización y análisis de datos \\nutilizando Qlikview y el ERP, además de \\ncoordinar con el equipo de informática para \\nmejorar los procesos.\\nEducación\\n2018 – 2019 SANTIAGO,\\xa0CHILE\\nBootCamp Data ScientistDesafioLatam\\n2017 – 2018 SANTIAGO,\\xa0CHILE\\nDiplomado Big Data para la Toma deDecisionesPontificia Universidad Católica de Chile\\n2009 – 2015 SANTIAGO,\\xa0CHILE\\nIngenieria Civil IndustrialUniversidad de Santiago de Chile\\n2003 – 2008 SANTIAGO,\\xa0CHILE\\nEducación SecundariaInstituto Nacional General José MiguelCarrera\\n03/12/1990 Santiago, Chile +56982547615\\neduardo.callejas@usach.cl\\nEduardoCallejasP.\\n\"Nunca dejar de aprender\" es mi lema. Creo firmemente en que podemos aprender de todas las experiencias \\ny que todas las personas tienen algo que enseñar. Muy interesado en el desarrollo de proyectos de BI, \\nAnálisis de Datos, Big Data y todo lo relacionado con Data Science\\n1/2'),\n",
       " Document(metadata={'source': 'cv-edu.pdf', 'page': 1}, page_content='Habilidades\\n–LENGUAJE:\\nEspañol\\nInglés\\n–HERRAMIENTAS\\nSQL\\nTableau\\nMicrosoft Excel\\nQlikview\\nPython\\nR\\nCertificados y Cursos\\n2018\\nMicrosoft Office Specialist (MS Excel)Microsoft\\n2017\\nIntermediate Python for Data ScienceCourseDataCamp\\n2018\\nIntro a Ruby on RailsDesafioLatam\\nOnline\\nPremios\\n09/2019\\n1er Lugar Hackshow 2019DesafioLatam\\nPrimer Lugar en Hackshow DesafioLatam 2019, \\npresentación de los mejores proyectos \\ntecnológicos de la academia DesafioLatam. El \\nproyecto presentado fue \"Aplicaciones de \\nMachine Learning en la definición de la estrategia\\nde una organización: el caso Delivery\"\\nProducir Música Leer\\nEscuchar\\nMúsica Sintetizadores\\nJugar\\nVideojuegos\\nAficiones\\nOtros\\n2/2\\n@ecallejasp @callejasv1')]"
      ]
     },
     "execution_count": 6,
     "metadata": {},
     "output_type": "execute_result"
    }
   ],
   "source": [
    "document_pdf"
   ]
  },
  {
   "cell_type": "code",
   "execution_count": 7,
   "metadata": {},
   "outputs": [
    {
     "name": "stdout",
     "output_type": "stream",
     "text": [
      "Collecting fitz\n",
      "  Downloading fitz-0.0.1.dev2-py2.py3-none-any.whl.metadata (816 bytes)\n",
      "Collecting configobj (from fitz)\n",
      "  Downloading configobj-5.0.9.tar.gz (101 kB)\n",
      "  Installing build dependencies ... \u001b[?25ldone\n",
      "\u001b[?25h  Getting requirements to build wheel ... \u001b[?25ldone\n",
      "\u001b[?25h  Preparing metadata (pyproject.toml) ... \u001b[?25ldone\n",
      "\u001b[?25hCollecting configparser (from fitz)\n",
      "  Downloading configparser-7.1.0-py3-none-any.whl.metadata (5.4 kB)\n",
      "Collecting httplib2 (from fitz)\n",
      "  Downloading httplib2-0.22.0-py3-none-any.whl.metadata (2.6 kB)\n",
      "Collecting nibabel (from fitz)\n",
      "  Downloading nibabel-5.3.2-py3-none-any.whl.metadata (9.1 kB)\n",
      "Collecting nipype (from fitz)\n",
      "  Downloading nipype-1.9.0-py3-none-any.whl.metadata (6.6 kB)\n",
      "Requirement already satisfied: numpy in /Users/juanguillermoaceituno/Desktop/hola1/.venv/lib/python3.12/site-packages (from fitz) (1.26.4)\n",
      "Collecting pandas (from fitz)\n",
      "  Downloading pandas-2.2.3-cp312-cp312-macosx_11_0_arm64.whl.metadata (89 kB)\n",
      "Collecting pyxnat (from fitz)\n",
      "  Downloading pyxnat-1.6.2-py3-none-any.whl.metadata (5.3 kB)\n",
      "Collecting scipy (from fitz)\n",
      "  Downloading scipy-1.14.1-cp312-cp312-macosx_14_0_arm64.whl.metadata (60 kB)\n",
      "Collecting pyparsing!=3.0.0,!=3.0.1,!=3.0.2,!=3.0.3,<4,>=2.4.2 (from httplib2->fitz)\n",
      "  Downloading pyparsing-3.2.0-py3-none-any.whl.metadata (5.0 kB)\n",
      "Requirement already satisfied: packaging>=20 in /Users/juanguillermoaceituno/Desktop/hola1/.venv/lib/python3.12/site-packages (from nibabel->fitz) (24.1)\n",
      "Requirement already satisfied: typing-extensions>=4.6 in /Users/juanguillermoaceituno/Desktop/hola1/.venv/lib/python3.12/site-packages (from nibabel->fitz) (4.12.2)\n",
      "Collecting click>=6.6.0 (from nipype->fitz)\n",
      "  Downloading click-8.1.7-py3-none-any.whl.metadata (3.0 kB)\n",
      "Collecting networkx>=2.0 (from nipype->fitz)\n",
      "  Downloading networkx-3.4.2-py3-none-any.whl.metadata (6.3 kB)\n",
      "Collecting prov>=1.5.2 (from nipype->fitz)\n",
      "  Downloading prov-2.0.1-py3-none-any.whl.metadata (3.6 kB)\n",
      "Collecting pydot>=1.2.3 (from nipype->fitz)\n",
      "  Downloading pydot-3.0.2-py3-none-any.whl.metadata (10 kB)\n",
      "Requirement already satisfied: python-dateutil>=2.2 in /Users/juanguillermoaceituno/Desktop/hola1/.venv/lib/python3.12/site-packages (from nipype->fitz) (2.9.0.post0)\n",
      "Collecting rdflib>=5.0.0 (from nipype->fitz)\n",
      "  Downloading rdflib-7.1.1-py3-none-any.whl.metadata (11 kB)\n",
      "Collecting simplejson>=3.8.0 (from nipype->fitz)\n",
      "  Downloading simplejson-3.19.3-cp312-cp312-macosx_11_0_arm64.whl.metadata (3.2 kB)\n",
      "Collecting traits!=5.0,>=4.6 (from nipype->fitz)\n",
      "  Downloading traits-6.4.3-cp312-cp312-macosx_10_9_universal2.whl.metadata (5.0 kB)\n",
      "Collecting filelock>=3.0.0 (from nipype->fitz)\n",
      "  Downloading filelock-3.16.1-py3-none-any.whl.metadata (2.9 kB)\n",
      "Collecting etelemetry>=0.2.0 (from nipype->fitz)\n",
      "  Downloading etelemetry-0.3.1-py3-none-any.whl.metadata (3.2 kB)\n",
      "Collecting looseversion!=1.2 (from nipype->fitz)\n",
      "  Downloading looseversion-1.3.0-py2.py3-none-any.whl.metadata (4.6 kB)\n",
      "Collecting puremagic (from nipype->fitz)\n",
      "  Downloading puremagic-1.28-py3-none-any.whl.metadata (5.8 kB)\n",
      "Collecting pytz>=2020.1 (from pandas->fitz)\n",
      "  Downloading pytz-2024.2-py2.py3-none-any.whl.metadata (22 kB)\n",
      "Collecting tzdata>=2022.7 (from pandas->fitz)\n",
      "  Downloading tzdata-2024.2-py2.py3-none-any.whl.metadata (1.4 kB)\n",
      "Collecting lxml>=4.3 (from pyxnat->fitz)\n",
      "  Downloading lxml-5.3.0-cp312-cp312-macosx_10_9_universal2.whl.metadata (3.8 kB)\n",
      "Requirement already satisfied: requests>=2.20 in /Users/juanguillermoaceituno/Desktop/hola1/.venv/lib/python3.12/site-packages (from pyxnat->fitz) (2.32.3)\n",
      "Collecting pathlib>=1.0 (from pyxnat->fitz)\n",
      "  Downloading pathlib-1.0.1-py3-none-any.whl.metadata (5.1 kB)\n",
      "Collecting ci-info>=0.2 (from etelemetry>=0.2.0->nipype->fitz)\n",
      "  Downloading ci_info-0.3.0-py3-none-any.whl.metadata (6.1 kB)\n",
      "Collecting rdflib>=5.0.0 (from nipype->fitz)\n",
      "  Downloading rdflib-6.3.2-py3-none-any.whl.metadata (11 kB)\n",
      "Requirement already satisfied: six>=1.5 in /Users/juanguillermoaceituno/Desktop/hola1/.venv/lib/python3.12/site-packages (from python-dateutil>=2.2->nipype->fitz) (1.16.0)\n",
      "Collecting isodate<0.7.0,>=0.6.0 (from rdflib>=5.0.0->nipype->fitz)\n",
      "  Downloading isodate-0.6.1-py2.py3-none-any.whl.metadata (9.6 kB)\n",
      "Requirement already satisfied: charset-normalizer<4,>=2 in /Users/juanguillermoaceituno/Desktop/hola1/.venv/lib/python3.12/site-packages (from requests>=2.20->pyxnat->fitz) (3.4.0)\n",
      "Requirement already satisfied: idna<4,>=2.5 in /Users/juanguillermoaceituno/Desktop/hola1/.venv/lib/python3.12/site-packages (from requests>=2.20->pyxnat->fitz) (3.10)\n",
      "Requirement already satisfied: urllib3<3,>=1.21.1 in /Users/juanguillermoaceituno/Desktop/hola1/.venv/lib/python3.12/site-packages (from requests>=2.20->pyxnat->fitz) (2.2.3)\n",
      "Requirement already satisfied: certifi>=2017.4.17 in /Users/juanguillermoaceituno/Desktop/hola1/.venv/lib/python3.12/site-packages (from requests>=2.20->pyxnat->fitz) (2024.8.30)\n",
      "Downloading fitz-0.0.1.dev2-py2.py3-none-any.whl (20 kB)\n",
      "Downloading configparser-7.1.0-py3-none-any.whl (17 kB)\n",
      "Downloading httplib2-0.22.0-py3-none-any.whl (96 kB)\n",
      "Downloading nibabel-5.3.2-py3-none-any.whl (3.3 MB)\n",
      "\u001b[2K   \u001b[90m━━━━━━━━━━━━━━━━━━━━━━━━━━━━━━━━━━━━━━━━\u001b[0m \u001b[32m3.3/3.3 MB\u001b[0m \u001b[31m2.7 MB/s\u001b[0m eta \u001b[36m0:00:00\u001b[0ma \u001b[36m0:00:01\u001b[0mm\n",
      "\u001b[?25hDownloading nipype-1.9.0-py3-none-any.whl (3.2 MB)\n",
      "\u001b[2K   \u001b[90m━━━━━━━━━━━━━━━━━━━━━━━━━━━━━━━━━━━━━━━━\u001b[0m \u001b[32m3.2/3.2 MB\u001b[0m \u001b[31m5.4 MB/s\u001b[0m eta \u001b[36m0:00:00\u001b[0m00:01\u001b[0m:00:01\u001b[0m\n",
      "\u001b[?25hDownloading scipy-1.14.1-cp312-cp312-macosx_14_0_arm64.whl (23.1 MB)\n",
      "\u001b[2K   \u001b[90m━━━━━━━━━━━━━━━━━━━━━━━━━━━━━━━━━━━━━━━━\u001b[0m \u001b[32m23.1/23.1 MB\u001b[0m \u001b[31m42.2 MB/s\u001b[0m eta \u001b[36m0:00:00\u001b[0ma \u001b[36m0:00:01\u001b[0m\n",
      "\u001b[?25hDownloading pandas-2.2.3-cp312-cp312-macosx_11_0_arm64.whl (11.4 MB)\n",
      "\u001b[2K   \u001b[90m━━━━━━━━━━━━━━━━━━━━━━━━━━━━━━━━━━━━━━━━\u001b[0m \u001b[32m11.4/11.4 MB\u001b[0m \u001b[31m54.2 MB/s\u001b[0m eta \u001b[36m0:00:00\u001b[0m00:01\u001b[0m\n",
      "\u001b[?25hDownloading pyxnat-1.6.2-py3-none-any.whl (95 kB)\n",
      "Downloading click-8.1.7-py3-none-any.whl (97 kB)\n",
      "Downloading etelemetry-0.3.1-py3-none-any.whl (6.4 kB)\n",
      "Downloading filelock-3.16.1-py3-none-any.whl (16 kB)\n",
      "Downloading looseversion-1.3.0-py2.py3-none-any.whl (8.2 kB)\n",
      "Downloading lxml-5.3.0-cp312-cp312-macosx_10_9_universal2.whl (8.2 MB)\n",
      "\u001b[2K   \u001b[90m━━━━━━━━━━━━━━━━━━━━━━━━━━━━━━━━━━━━━━━━\u001b[0m \u001b[32m8.2/8.2 MB\u001b[0m \u001b[31m41.7 MB/s\u001b[0m eta \u001b[36m0:00:00\u001b[0m\n",
      "\u001b[?25hDownloading networkx-3.4.2-py3-none-any.whl (1.7 MB)\n",
      "\u001b[2K   \u001b[90m━━━━━━━━━━━━━━━━━━━━━━━━━━━━━━━━━━━━━━━━\u001b[0m \u001b[32m1.7/1.7 MB\u001b[0m \u001b[31m37.0 MB/s\u001b[0m eta \u001b[36m0:00:00\u001b[0m\n",
      "\u001b[?25hDownloading pathlib-1.0.1-py3-none-any.whl (14 kB)\n",
      "Downloading prov-2.0.1-py3-none-any.whl (421 kB)\n",
      "Downloading pydot-3.0.2-py3-none-any.whl (35 kB)\n",
      "Downloading pyparsing-3.2.0-py3-none-any.whl (106 kB)\n",
      "Downloading pytz-2024.2-py2.py3-none-any.whl (508 kB)\n",
      "Downloading rdflib-6.3.2-py3-none-any.whl (528 kB)\n",
      "\u001b[2K   \u001b[90m━━━━━━━━━━━━━━━━━━━━━━━━━━━━━━━━━━━━━━━━\u001b[0m \u001b[32m528.1/528.1 kB\u001b[0m \u001b[31m27.0 MB/s\u001b[0m eta \u001b[36m0:00:00\u001b[0m\n",
      "\u001b[?25hDownloading simplejson-3.19.3-cp312-cp312-macosx_11_0_arm64.whl (74 kB)\n",
      "Downloading traits-6.4.3-cp312-cp312-macosx_10_9_universal2.whl (5.0 MB)\n",
      "\u001b[2K   \u001b[90m━━━━━━━━━━━━━━━━━━━━━━━━━━━━━━━━━━━━━━━━\u001b[0m \u001b[32m5.0/5.0 MB\u001b[0m \u001b[31m5.3 MB/s\u001b[0m eta \u001b[36m0:00:00\u001b[0ma \u001b[36m0:00:01\u001b[0mm\n",
      "\u001b[?25hDownloading tzdata-2024.2-py2.py3-none-any.whl (346 kB)\n",
      "Downloading puremagic-1.28-py3-none-any.whl (43 kB)\n",
      "Downloading ci_info-0.3.0-py3-none-any.whl (7.8 kB)\n",
      "Downloading isodate-0.6.1-py2.py3-none-any.whl (41 kB)\n",
      "Building wheels for collected packages: configobj\n",
      "  Building wheel for configobj (pyproject.toml) ... \u001b[?25ldone\n",
      "\u001b[?25h  Created wheel for configobj: filename=configobj-5.0.9-py2.py3-none-any.whl size=35615 sha256=309c604e214c4d66ec005abeb10f624739c729335c09539dcb726c46f92b609f\n",
      "  Stored in directory: /Users/juanguillermoaceituno/Library/Caches/pip/wheels/07/5a/10/d2fe92a9f4c6a57c0b75d362bd02b79c4cf5a6cdcadacd1c5f\n",
      "Successfully built configobj\n",
      "Installing collected packages: pytz, puremagic, pathlib, looseversion, tzdata, traits, simplejson, scipy, pyparsing, nibabel, networkx, lxml, isodate, filelock, configparser, configobj, click, ci-info, rdflib, pyxnat, pydot, pandas, httplib2, etelemetry, prov, nipype, fitz\n",
      "Successfully installed ci-info-0.3.0 click-8.1.7 configobj-5.0.9 configparser-7.1.0 etelemetry-0.3.1 filelock-3.16.1 fitz-0.0.1.dev2 httplib2-0.22.0 isodate-0.6.1 looseversion-1.3.0 lxml-5.3.0 networkx-3.4.2 nibabel-5.3.2 nipype-1.9.0 pandas-2.2.3 pathlib-1.0.1 prov-2.0.1 puremagic-1.28 pydot-3.0.2 pyparsing-3.2.0 pytz-2024.2 pyxnat-1.6.2 rdflib-6.3.2 scipy-1.14.1 simplejson-3.19.3 traits-6.4.3 tzdata-2024.2\n",
      "Note: you may need to restart the kernel to use updated packages.\n"
     ]
    }
   ],
   "source": [
    "%pip install fitz"
   ]
  },
  {
   "cell_type": "code",
   "execution_count": 10,
   "metadata": {},
   "outputs": [],
   "source": [
    "import fitz \n",
    "doc = fitz.open('cv-edu.pdf') \n",
    "curriculum = \"\" \n",
    "for page in doc: \n",
    "   curriculum+=page.get_text() \n"
   ]
  },
  {
   "cell_type": "code",
   "execution_count": 5,
   "metadata": {},
   "outputs": [],
   "source": [
    "from langchain.evaluation import load_evaluator\n",
    "\n",
    "evaluator = load_evaluator(\"embedding_distance\")"
   ]
  },
  {
   "cell_type": "code",
   "execution_count": 13,
   "metadata": {},
   "outputs": [],
   "source": [
    "empleo_adm=\"\"\"Tus principales desafíos serán:\n",
    "La administración de recursos financieros y la supervisión de la gestión presupuestaria de la Facultad/Unidad, validando con su jefatura y entregando asesoría cuando es requerida.\n",
    "Labores administrativas según requerimientos de la Unidad.\n",
    "\n",
    "Para este desafío, buscamos talentos con:\n",
    "Conocimiento en confección y análisis presupuestario.\n",
    "Conocimiento en gestión financiera y contable.\n",
    "Conocimiento técnico sobre Ley de la Renta, Ley Laboral, Ley de Impuestos.\n",
    "Conocimiento y experiencia en apertura y cierre de proyectos internos y externos.\n",
    "Conocimiento y manejo de herramientas computacionales Office nivel intermedio.\n",
    "Conocimiento y manejo de inventarios activo fijo.\n",
    "Deseable conocimiento y manejo de Sistema IProcurement – Oracle.\n",
    "Deseable conocimiento y manejo de planes de cuentas financieras de la Universidad.\"\"\""
   ]
  },
  {
   "cell_type": "code",
   "execution_count": 15,
   "metadata": {},
   "outputs": [],
   "source": [
    "empleo_ds=\"\"\"El team de Data Operations Ecommerce está buscando a su próximo/a \"Analista Data Analytics Junior\" para hacer la diferencia en nuestro equipo de Walmart Digital, reportando al Subgerente de Data Operations Ecommerce.\n",
    "\n",
    "Valoramos tu historia y eso que nos hace únicos. Es por eso impulsamos un ambiente de trabajo inclusivo, en donde puedes ser tu mejor versión y hacer la diferencia junto a nosotros.\n",
    "\n",
    "*Esta oferta laboral se rige bajo la Ley Nº 21.015 que incentiva la inclusión de personas con discapacidad al mundo laboral.\n",
    "\n",
    "Función:\n",
    "Realiza análisis descriptivos y modelado estadístico de conjuntos de datos existentes en varias áreas del negocio, por medio de la recolección de datos, procesamiento, limpieza, modelado, identificación de patrones y tendencias, debiendo aplicar técnicas de diferentes niveles de complejidad para la visualización, análisis e interpretación de datos para su uso en el desarrollo de estrategias y/o tácticas de negocio con el fin de responder preguntas de negocio y mejorar la toma de decisiones.\n",
    "\n",
    "Educación y experiencia:\n",
    "Educación Superior Completa, Ingeniería Comercial o Ing. Civil Industrial.\n",
    "Al menos 1 año de experiencia en análisis e informes comerciales, BI.\n",
    "Conocimientos básico de estadística y bases de datos.\n",
    "Inglés Avanzado\"\"\""
   ]
  },
  {
   "cell_type": "code",
   "execution_count": 16,
   "metadata": {},
   "outputs": [
    {
     "data": {
      "text/plain": [
       "{'score': 0.17473003396608366}"
      ]
     },
     "execution_count": 16,
     "metadata": {},
     "output_type": "execute_result"
    }
   ],
   "source": [
    "evaluator.evaluate_strings(prediction=curriculum, reference=empleo_ds)\n",
    "\n",
    "\n"
   ]
  },
  {
   "cell_type": "code",
   "execution_count": 17,
   "metadata": {},
   "outputs": [
    {
     "data": {
      "text/plain": [
       "{'score': 0.21921007245445467}"
      ]
     },
     "execution_count": 17,
     "metadata": {},
     "output_type": "execute_result"
    }
   ],
   "source": [
    "evaluator.evaluate_strings(prediction=curriculum, reference=empleo_adm)\n"
   ]
  },
  {
   "cell_type": "code",
   "execution_count": 2,
   "metadata": {},
   "outputs": [
    {
     "name": "stdout",
     "output_type": "stream",
     "text": [
      "pipreqs  --savepath /Users/ecallejasp/Library/Mobile Documents/com~apple~CloudDocs/IA/AutomaticCV/cv-matcher /Users/ecallejasp/Library/Mobile Documents/com~apple~CloudDocs/IA/AutomaticCV/cv-matcher\n",
      "Usage:\n",
      "    pipreqs [options] [<path>]\n"
     ]
    }
   ],
   "source": [
    "!pipreqsnb --savepath \"/Users/ecallejasp/Library/Mobile Documents/com~apple~CloudDocs/IA/AutomaticCV/cv-matcher\"\n",
    "\n"
   ]
  },
  {
   "cell_type": "code",
   "execution_count": null,
   "metadata": {},
   "outputs": [],
   "source": []
  }
 ],
 "metadata": {
  "kernelspec": {
   "display_name": ".venv",
   "language": "python",
   "name": "python3"
  },
  "language_info": {
   "codemirror_mode": {
    "name": "ipython",
    "version": 3
   },
   "file_extension": ".py",
   "mimetype": "text/x-python",
   "name": "python",
   "nbconvert_exporter": "python",
   "pygments_lexer": "ipython3",
   "version": "3.12.0"
  }
 },
 "nbformat": 4,
 "nbformat_minor": 2
}
